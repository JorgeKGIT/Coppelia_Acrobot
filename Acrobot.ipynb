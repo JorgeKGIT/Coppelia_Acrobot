{
 "cells": [
  {
   "cell_type": "markdown",
   "id": "d3020ba2",
   "metadata": {},
   "source": [
    "# Proyecto Acrobot con NEAT\n"
   ]
  },
  {
   "cell_type": "code",
   "execution_count": 11,
   "metadata": {},
   "outputs": [
    {
     "name": "stdout",
     "output_type": "stream",
     "text": [
      "Requirement already satisfied: coppeliasim-zmqremoteapi-client in c:\\users\\jorge\\anaconda3\\lib\\site-packages (0.1.0)\n",
      "Requirement already satisfied: pyzmq in c:\\users\\jorge\\anaconda3\\lib\\site-packages (from coppeliasim-zmqremoteapi-client) (22.2.1)\n",
      "Requirement already satisfied: cbor in c:\\users\\jorge\\anaconda3\\lib\\site-packages (from coppeliasim-zmqremoteapi-client) (1.0.0)\n"
     ]
    }
   ],
   "source": [
    "!pip install coppeliasim-zmqremoteapi-client"
   ]
  },
  {
   "cell_type": "code",
   "execution_count": 12,
   "metadata": {},
   "outputs": [
    {
     "name": "stdout",
     "output_type": "stream",
     "text": [
      "Requirement already satisfied: cbor in c:\\users\\jorge\\anaconda3\\lib\\site-packages (1.0.0)\n"
     ]
    }
   ],
   "source": [
    "!pip install cbor"
   ]
  },
  {
   "cell_type": "code",
   "execution_count": 13,
   "metadata": {},
   "outputs": [
    {
     "name": "stdout",
     "output_type": "stream",
     "text": [
      "warning: import zmqRemoteApi is deprecated. Please use import coppeliasim_zmqremoteapi_client instead.\n"
     ]
    }
   ],
   "source": [
    "import numpy as np\n",
    "import time\n",
    "\n",
    "from python.zmqRemoteApi import RemoteAPIClient\n",
    "\n",
    "\n",
    "class Coppelia():\n",
    "\n",
    "    def __init__(self):\n",
    "        print('*** connecting to coppeliasim')\n",
    "        client = RemoteAPIClient()\n",
    "        self.sim = client.getObject('sim')\n",
    "\n",
    "    def start_simulation(self):\n",
    "        # print('*** saving environment')\n",
    "        self.default_idle_fps = self.sim.getInt32Param(self.sim.intparam_idle_fps)\n",
    "        self.sim.setInt32Param(self.sim.intparam_idle_fps, 0)\n",
    "        self.sim.startSimulation()\n",
    "\n",
    "    def stop_simulation(self):\n",
    "        # print('*** stopping simulation')\n",
    "        self.sim.stopSimulation()\n",
    "        while self.sim.getSimulationState() != self.sim.simulation_stopped:\n",
    "            time.sleep(0.1)\n",
    "        # print('*** restoring environment')\n",
    "        self.sim.setInt32Param(self.sim.intparam_idle_fps, self.default_idle_fps)\n",
    "        print('*** done')\n",
    "\n",
    "    def is_running(self):\n",
    "        return self.sim.getSimulationState() != self.sim.simulation_stopped\n"
   ]
  },
  {
   "cell_type": "code",
   "execution_count": 15,
   "id": "6dcdd25b",
   "metadata": {},
   "outputs": [],
   "source": [
    "import sim\n",
    "import numpy as np\n",
    "import pandas as pd"
   ]
  },
  {
   "cell_type": "code",
   "execution_count": 87,
   "metadata": {},
   "outputs": [],
   "source": [
    "class Acrobot():\n",
    "    \n",
    "    num_sonar = 16\n",
    "    ang_max = np.pi\n",
    "    joint_pos=0\n",
    "    joint2_handle=-1\n",
    "    dummy_handle=-1\n",
    "\n",
    "    def __init__(self, sim, robot_id, use_camera=False, use_lidar=False):\n",
    "        self.sim = sim\n",
    "        print('*** getting handles', robot_id)\n",
    "        #self.joint1 = self.sim.getObject(f'/{robot_id}/Acrobot/Joint1')\n",
    "        #self.joint2 = self.sim.getObject(f'/{robot_id}/Acrobot/Joint1/Link1/Joint2')\n",
    "        self.joint2_handle = self.sim.getObject(f'/{robot_id}/Acrobot/Joint1/Link1/Joint2')\n",
    "        self.dummy_handle = self.sim.getObject(f'/{robot_id}/Acrobot/Joint1/Link1/Joint2/Link2/Dummy')\n",
    "\n",
    "\n",
    "    def set_speed(self, speed):\n",
    "        self.sim.setJointTargetVelocity(self.joint2_handle, speed)\n",
    "    def set_pos_joint(self,pos):\n",
    "        pos=pos*np.pi/180\n",
    "        self.sim.setJointTargetPosition(self, pos,  [])\n",
    "    def set_joint_torque(self,torque):\n",
    "        self.sim.setJointTargetForce( self.joint2_handle, torque, True)\n",
    "    def get_handle(self):\n",
    "        return self.joint2_handle\n",
    "\n",
    "    def get_pos_joint(self):\n",
    "        self.joint_pos=self.sim.getJointTargetPosition(self.joint2_handle)*180/np.pi\n",
    "        return self.joint_pos\n",
    "    def get_pos_dummy(self):\n",
    "        return self.sim.getObjectPosition(self.dummy_handle,self.sim.handle_world)\n",
    "         \n",
    "    def get_velocity_joint(self):\n",
    "        return  self.sim.getJointTargetVelocity(self.joint2_handle)\n",
    "    def get_torque_joint(self):\n",
    "        return self.sim.getJointForce(self.joint2_handle)\n",
    "    def start_motor(self):\n",
    "        self.sim.setObjectInt32Param(self.joint2_handle,sim.sim_jointintparam_motor_enabled,1)\n",
    "        #self.sim.setObjectInt32Param(self.joint2_handle,sim.sim_jointintparam_ctrl_enabled,1)\n"
   ]
  },
  {
   "cell_type": "markdown",
   "id": "0f946d37",
   "metadata": {},
   "source": [
    "## Conexión"
   ]
  },
  {
   "cell_type": "markdown",
   "id": "e3b5db9b",
   "metadata": {},
   "source": [
    "## Obtener Manejadores"
   ]
  },
  {
   "cell_type": "code",
   "execution_count": 106,
   "metadata": {},
   "outputs": [],
   "source": [
    "def main(args=None):\n",
    "    coppelia = Coppelia()\n",
    "    robot = Acrobot(coppelia.sim, 'Cuboid')\n",
    "    #robot.set_speed(+1.2)\n",
    "    coppelia.start_simulation()\n",
    "    robot.start_motor()\n",
    "    #robot.set_speed(+3.14)\n",
    "    robot.set_joint_torque(0.2)\n",
    "    t1=0\n",
    "    print(f'Position Dummy:',robot.get_pos_dummy()[2] )\n",
    "    while (t := coppelia.sim.getSimulationTime()) < 5:\n",
    "        print(f'Simulation time: {t:.3f} [s]')\n",
    "        print(f'Velocity joint: ', robot.get_velocity_joint())\n",
    "        print(f'Torque joint: ',robot.get_torque_joint())\n",
    "        '''if t1%2==0:\n",
    "            robot.set_speed(-3.14)\n",
    "        else:\n",
    "            robot.set_speed(3.14)'''\n",
    "        print(f'Position Dummy:',robot.get_pos_dummy()[2] )\n",
    "        if t1%2==0:\n",
    "            robot.set_joint_torque(-0.2)\n",
    "        else:\n",
    "            robot.set_joint_torque(0.2)\n",
    "        print(f' grados: {robot.get_pos_joint():.2f}')\n",
    "        t1+=1\n",
    "\n",
    "    coppelia.stop_simulation()"
   ]
  },
  {
   "cell_type": "code",
   "execution_count": 107,
   "metadata": {},
   "outputs": [
    {
     "name": "stdout",
     "output_type": "stream",
     "text": [
      "*** connecting to coppeliasim\n",
      "*** getting handles Cuboid\n",
      "Position Dummy: -4.07556645490518\n",
      "Simulation time: 0.050 [s]\n",
      "Velocity joint:  1000.0\n",
      "Torque joint:  -0.19999999999999998\n",
      "Position Dummy: 1.863241998044734\n",
      " grados: 0.00\n",
      "Simulation time: 0.300 [s]\n",
      "Velocity joint:  -1000.0\n",
      "Torque joint:  0.19999999999999998\n",
      "Position Dummy: 1.4448751870652305\n",
      " grados: 0.00\n",
      "Simulation time: 0.450 [s]\n",
      "Velocity joint:  1000.0\n",
      "Torque joint:  -0.19999999999999998\n",
      "Position Dummy: 0.37420129860265217\n",
      " grados: 0.00\n",
      "Simulation time: 0.650 [s]\n",
      "Velocity joint:  -1000.0\n",
      "Torque joint:  0.19999999999999998\n",
      "Position Dummy: 0.7456121745742819\n",
      " grados: 0.00\n",
      "Simulation time: 0.900 [s]\n",
      "Velocity joint:  1000.0\n",
      "Torque joint:  -0.19999999999999998\n",
      "Position Dummy: 1.1673184092131086\n",
      " grados: 0.00\n",
      "Simulation time: 1.100 [s]\n",
      "Velocity joint:  -1000.0\n",
      "Torque joint:  0.19999999999999998\n",
      "Position Dummy: 1.2293126611274388\n",
      " grados: 0.00\n",
      "Simulation time: 1.300 [s]\n",
      "Velocity joint:  1000.0\n",
      "Torque joint:  -0.19999999999999998\n",
      "Position Dummy: 1.5295746877815692\n",
      " grados: 0.00\n",
      "Simulation time: 1.550 [s]\n",
      "Velocity joint:  -1000.0\n",
      "Torque joint:  0.19999999999999998\n",
      "Position Dummy: 1.0644681403463003\n",
      " grados: 0.00\n",
      "Simulation time: 1.700 [s]\n",
      "Velocity joint:  1000.0\n",
      "Torque joint:  -0.19999999999999998\n",
      "Position Dummy: 0.49585787527611624\n",
      " grados: 0.00\n",
      "Simulation time: 1.850 [s]\n",
      "Velocity joint:  -1000.0\n",
      "Torque joint:  0.19999999999999998\n",
      "Position Dummy: 0.6450106040017832\n",
      " grados: 0.00\n",
      "Simulation time: 2.100 [s]\n",
      "Velocity joint:  1000.0\n",
      "Torque joint:  -0.19999999999999998\n",
      "Position Dummy: 1.7096559137420457\n",
      " grados: 0.00\n",
      "Simulation time: 2.300 [s]\n",
      "Velocity joint:  -1000.0\n",
      "Torque joint:  0.19999999999999998\n",
      "Position Dummy: 1.5407379092638596\n",
      " grados: 0.00\n",
      "Simulation time: 2.450 [s]\n",
      "Velocity joint:  1000.0\n",
      "Torque joint:  -0.19999999999999998\n",
      "Position Dummy: 0.6765401807197776\n",
      " grados: 0.00\n",
      "Simulation time: 2.650 [s]\n",
      "Velocity joint:  -1000.0\n",
      "Torque joint:  0.19999999999999998\n",
      "Position Dummy: 0.8833545382336343\n",
      " grados: 0.00\n",
      "Simulation time: 2.800 [s]\n",
      "Velocity joint:  1000.0\n",
      "Torque joint:  -0.19999999999999998\n",
      "Position Dummy: 0.6075815096843727\n",
      " grados: 0.00\n",
      "Simulation time: 2.950 [s]\n",
      "Velocity joint:  -1000.0\n",
      "Torque joint:  0.19999999999999998\n",
      "Position Dummy: 1.4160337394190432\n",
      " grados: 0.00\n",
      "Simulation time: 3.100 [s]\n",
      "Velocity joint:  1000.0\n",
      "Torque joint:  -0.19999999999999998\n",
      "Position Dummy: 0.563001882583077\n",
      " grados: 0.00\n",
      "Simulation time: 3.300 [s]\n",
      "Velocity joint:  -1000.0\n",
      "Torque joint:  0.19999999999999998\n",
      "Position Dummy: 1.2459109907330872\n",
      " grados: 0.00\n",
      "Simulation time: 3.500 [s]\n",
      "Velocity joint:  1000.0\n",
      "Torque joint:  -0.19999999999999998\n",
      "Position Dummy: 1.254450357286399\n",
      " grados: 0.00\n",
      "Simulation time: 3.700 [s]\n",
      "Velocity joint:  -1000.0\n",
      "Torque joint:  0.19999999999999998\n",
      "Position Dummy: 0.8244359687959504\n",
      " grados: 0.00\n",
      "Simulation time: 3.850 [s]\n",
      "Velocity joint:  1000.0\n",
      "Torque joint:  -0.19999999999999998\n",
      "Position Dummy: 1.02354402428894\n",
      " grados: 0.00\n",
      "Simulation time: 4.050 [s]\n",
      "Velocity joint:  -1000.0\n",
      "Torque joint:  0.19999999999999998\n",
      "Position Dummy: 0.5834327937197001\n",
      " grados: 0.00\n",
      "Simulation time: 4.200 [s]\n",
      "Velocity joint:  1000.0\n",
      "Torque joint:  -0.19999999999999998\n",
      "Position Dummy: 1.1366373863670765\n",
      " grados: 0.00\n",
      "Simulation time: 4.400 [s]\n",
      "Velocity joint:  -1000.0\n",
      "Torque joint:  0.19999999999999998\n",
      "Position Dummy: 1.0578032974188383\n",
      " grados: 0.00\n",
      "Simulation time: 4.550 [s]\n",
      "Velocity joint:  1000.0\n",
      "Torque joint:  -0.19999999999999998\n",
      "Position Dummy: 0.508892921899103\n",
      " grados: 0.00\n",
      "Simulation time: 4.700 [s]\n",
      "Velocity joint:  -1000.0\n",
      "Torque joint:  0.19999999999999998\n",
      "Position Dummy: 0.39386190540983\n",
      " grados: 0.00\n",
      "Simulation time: 4.900 [s]\n",
      "Velocity joint:  1000.0\n",
      "Torque joint:  -0.19999999999999998\n",
      "Position Dummy: 0.8428745650454701\n",
      " grados: 0.00\n",
      "*** done\n"
     ]
    }
   ],
   "source": [
    "#+2.2275 altura máxima del dummy\n",
    "#con torque 0.2 no llega a subir\n",
    "#fitness será el que más tiempo esté el dummy en la posición más alta\n",
    "#Exito: dejar x segundos el dummy en la posición más alta\n",
    "#ctrl+w cierra escena en copelia\n",
    "main()"
   ]
  },
  {
   "cell_type": "code",
   "execution_count": null,
   "metadata": {},
   "outputs": [],
   "source": []
  }
 ],
 "metadata": {
  "kernelspec": {
   "display_name": "Python 3 (ipykernel)",
   "language": "python",
   "name": "python3"
  },
  "language_info": {
   "codemirror_mode": {
    "name": "ipython",
    "version": 3
   },
   "file_extension": ".py",
   "mimetype": "text/x-python",
   "name": "python",
   "nbconvert_exporter": "python",
   "pygments_lexer": "ipython3",
   "version": "3.9.7"
  }
 },
 "nbformat": 4,
 "nbformat_minor": 5
}
