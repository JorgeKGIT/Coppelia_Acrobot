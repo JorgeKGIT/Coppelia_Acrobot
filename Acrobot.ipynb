{
 "cells": [
  {
   "cell_type": "markdown",
   "id": "d3020ba2",
   "metadata": {},
   "source": [
    "# Proyecto Acrobot con NEAT\n"
   ]
  },
  {
   "cell_type": "code",
   "execution_count": 2,
   "metadata": {},
   "outputs": [
    {
     "name": "stdout",
     "output_type": "stream",
     "text": [
      "Collecting neat-python\n",
      "  Downloading neat_python-0.92-py3-none-any.whl (44 kB)\n",
      "Installing collected packages: neat-python\n",
      "Successfully installed neat-python-0.92\n"
     ]
    }
   ],
   "source": [
    "!pip install neat-python"
   ]
  },
  {
   "cell_type": "code",
   "execution_count": 3,
   "metadata": {},
   "outputs": [
    {
     "name": "stdout",
     "output_type": "stream",
     "text": [
      "Requirement already satisfied: coppeliasim-zmqremoteapi-client in c:\\users\\jorge\\anaconda3\\lib\\site-packages (0.1.0)\n",
      "Requirement already satisfied: pyzmq in c:\\users\\jorge\\anaconda3\\lib\\site-packages (from coppeliasim-zmqremoteapi-client) (22.2.1)\n",
      "Requirement already satisfied: cbor in c:\\users\\jorge\\anaconda3\\lib\\site-packages (from coppeliasim-zmqremoteapi-client) (1.0.0)\n"
     ]
    }
   ],
   "source": [
    "!pip install coppeliasim-zmqremoteapi-client"
   ]
  },
  {
   "cell_type": "code",
   "execution_count": 4,
   "metadata": {},
   "outputs": [
    {
     "name": "stdout",
     "output_type": "stream",
     "text": [
      "Requirement already satisfied: cbor in c:\\users\\jorge\\anaconda3\\lib\\site-packages (1.0.0)\n"
     ]
    }
   ],
   "source": [
    "!pip install cbor"
   ]
  },
  {
   "cell_type": "code",
   "execution_count": 1,
   "metadata": {},
   "outputs": [
    {
     "name": "stdout",
     "output_type": "stream",
     "text": [
      "warning: import zmqRemoteApi is deprecated. Please use import coppeliasim_zmqremoteapi_client instead.\n"
     ]
    }
   ],
   "source": [
    "import numpy as np\n",
    "import time\n",
    "\n",
    "from python.zmqRemoteApi import RemoteAPIClient\n",
    "\n",
    "\n",
    "class Coppelia():\n",
    "\n",
    "    def __init__(self):\n",
    "        print('*** connecting to coppeliasim')\n",
    "        client = RemoteAPIClient()\n",
    "        self.sim = client.getObject('sim')\n",
    "\n",
    "    def start_simulation(self):\n",
    "        # print('*** saving environment')\n",
    "        self.default_idle_fps = self.sim.getInt32Param(self.sim.intparam_idle_fps)\n",
    "        self.sim.setInt32Param(self.sim.intparam_idle_fps, 0)\n",
    "        self.sim.startSimulation()\n",
    "\n",
    "    def stop_simulation(self):\n",
    "        # print('*** stopping simulation')\n",
    "        self.sim.stopSimulation()\n",
    "        while self.sim.getSimulationState() != self.sim.simulation_stopped:\n",
    "            time.sleep(0.1)\n",
    "        # print('*** restoring environment')\n",
    "        self.sim.setInt32Param(self.sim.intparam_idle_fps, self.default_idle_fps)\n",
    "        print('*** done')\n",
    "\n",
    "    def is_running(self):\n",
    "        return self.sim.getSimulationState() != self.sim.simulation_stopped\n"
   ]
  },
  {
   "cell_type": "code",
   "execution_count": 5,
   "id": "6dcdd25b",
   "metadata": {},
   "outputs": [],
   "source": [
    "import sim\n",
    "import numpy as np\n",
    "import pandas as pd"
   ]
  },
  {
   "cell_type": "code",
   "execution_count": 31,
   "metadata": {},
   "outputs": [],
   "source": [
    "class Acrobot():\n",
    "    \n",
    "    num_sonar = 16\n",
    "    ang_max = np.pi\n",
    "    joint_pos=0\n",
    "    joint2_handle=-1\n",
    "    dummy_handle=-1\n",
    "\n",
    "    def __init__(self, sim, robot_id, use_camera=False, use_lidar=False):\n",
    "        self.sim = sim\n",
    "        print('*** getting handles', robot_id)\n",
    "        #self.joint1 = self.sim.getObject(f'/{robot_id}/Acrobot/Joint1')\n",
    "        #self.joint2 = self.sim.getObject(f'/{robot_id}/Acrobot/Joint1/Link1/Joint2')\n",
    "        self.joint2_handle = self.sim.getObject(f'/{robot_id}/Acrobot/Joint1/Link1/Joint2')\n",
    "        self.dummy_handle = self.sim.getObject(f'/{robot_id}/Acrobot/Joint1/Link1/Joint2/Link2/Dummy')\n",
    "\n",
    "\n",
    "    def set_speed(self, speed):\n",
    "        self.sim.setJointTargetVelocity(self.joint2_handle, speed)\n",
    "    def set_pos_joint(self,pos):\n",
    "        pos=pos*np.pi/180\n",
    "        self.sim.setJointTargetPosition(self, pos,  [])\n",
    "    def set_joint_torque(self,torque):\n",
    "        self.sim.setJointTargetForce( self.joint2_handle, torque, True)\n",
    "    def get_handle(self):\n",
    "        return self.joint2_handle\n",
    "\n",
    "    def get_pos_joint(self):\n",
    "        self.joint_pos=self.sim.getJointTargetPosition(self.joint2_handle)*180/np.pi\n",
    "        return self.joint_pos\n",
    "    def get_pos_dummy(self):\n",
    "        return self.sim.getObjectPosition(self.dummy_handle,self.sim.handle_world)\n",
    "         \n",
    "    def get_velocity_joint(self):\n",
    "        return  self.sim.getJointTargetVelocity(self.joint2_handle)\n",
    "    def get_torque_joint(self):\n",
    "        return self.sim.getJointForce(self.joint2_handle)\n",
    "    def start_motor(self):\n",
    "        self.sim.setObjectInt32Param(self.joint2_handle,sim.sim_jointintparam_motor_enabled,1)\n",
    "        #self.sim.setObjectInt32Param(self.joint2_handle,sim.sim_jointintparam_ctrl_enabled,1)\n"
   ]
  },
  {
   "cell_type": "markdown",
   "id": "0f946d37",
   "metadata": {},
   "source": [
    "## Conexión"
   ]
  },
  {
   "cell_type": "markdown",
   "id": "e3b5db9b",
   "metadata": {},
   "source": [
    "## Obtener Manejadores"
   ]
  },
  {
   "cell_type": "code",
   "execution_count": 34,
   "metadata": {},
   "outputs": [],
   "source": [
    "def main(args=None):\n",
    "    coppelia = Coppelia()\n",
    "    robot = Acrobot(coppelia.sim, 'Cuboid')\n",
    "    #robot.set_speed(+1.2)\n",
    "    coppelia.start_simulation()\n",
    "    robot.start_motor()\n",
    "    #robot.set_speed(+3.14)\n",
    "    robot.set_joint_torque(-0.3)\n",
    "    t1=0\n",
    "    print(f'Position Dummy:',robot.get_pos_dummy()[2] )\n",
    "    while (t := coppelia.sim.getSimulationTime()) < 5:\n",
    "        print(f'Simulation time: {t:.3f} [s]')\n",
    "        #print(f'Velocity joint: ', robot.get_velocity_joint())\n",
    "        print(f'Torque joint: ',robot.get_torque_joint())\n",
    "        '''if t1%2==0:\n",
    "            robot.set_speed(-3.14)\n",
    "        else:\n",
    "            robot.set_speed(3.14)'''\n",
    "        print(f'Position Dummy:',robot.get_pos_dummy()[2] )\n",
    "        #if t1%2==0:\n",
    "        #    robot.set_joint_torque(-0.25)\n",
    "        #else:\n",
    "         #   robot.set_joint_torque(0.25)\n",
    "        print(f' grados: {robot.get_pos_joint():.2f}')\n",
    "        t1+=1\n",
    "\n",
    "    coppelia.stop_simulation()"
   ]
  },
  {
   "cell_type": "code",
   "execution_count": null,
   "metadata": {},
   "outputs": [],
   "source": [
    "'''config = neat.Config(neat.DefaultGenome, neat.DefaultReproduction,\n",
    "                     neat.DefaultSpeciesSet, neat.DefaultStagnation,\n",
    "                     'config-feedforward')  # Reemplaza 'config-feedforward' con tu archivo de configuración\n",
    "\n",
    "'''"
   ]
  },
  {
   "cell_type": "code",
   "execution_count": 35,
   "metadata": {},
   "outputs": [
    {
     "name": "stdout",
     "output_type": "stream",
     "text": [
      "*** connecting to coppeliasim\n",
      "*** getting handles Cuboid\n",
      "Position Dummy: 0.23156381844065704\n",
      "Simulation time: 0.050 [s]\n",
      "Torque joint:  0.29999999999999993\n",
      "Position Dummy: 0.23156381844065704\n",
      " grados: 0.00\n",
      "Simulation time: 0.150 [s]\n",
      "Torque joint:  0.29999999999999993\n",
      "Position Dummy: 0.3401978724506076\n",
      " grados: 0.00\n",
      "Simulation time: 0.250 [s]\n",
      "Torque joint:  0.29999999999999993\n",
      "Position Dummy: 0.5727003127501474\n",
      " grados: 0.00\n",
      "Simulation time: 0.350 [s]\n",
      "Torque joint:  0.29999999999999993\n",
      "Position Dummy: 0.6290352350591433\n",
      " grados: 0.00\n",
      "Simulation time: 0.400 [s]\n",
      "Torque joint:  0.29999999999999993\n",
      "Position Dummy: 0.6697047622622494\n",
      " grados: 0.00\n",
      "Simulation time: 0.500 [s]\n",
      "Torque joint:  0.29999999999999993\n",
      "Position Dummy: 0.6995338754285476\n",
      " grados: 0.00\n",
      "Simulation time: 0.550 [s]\n",
      "Torque joint:  0.29999999999999993\n",
      "Position Dummy: 0.657415899759612\n",
      " grados: 0.00\n",
      "Simulation time: 0.600 [s]\n",
      "Torque joint:  0.29999999999999993\n",
      "Position Dummy: 0.6097070311599408\n",
      " grados: 0.00\n",
      "Simulation time: 0.700 [s]\n",
      "Torque joint:  0.29999999999999993\n",
      "Position Dummy: 0.38820651227398284\n",
      " grados: 0.00\n",
      "Simulation time: 0.850 [s]\n",
      "Torque joint:  0.29999999999999993\n",
      "Position Dummy: 0.31463212084238557\n",
      " grados: 0.00\n",
      "Simulation time: 0.850 [s]\n",
      "Torque joint:  0.29999999999999993\n",
      "Position Dummy: 0.2683167263833197\n",
      " grados: 0.00\n",
      "Simulation time: 0.950 [s]\n",
      "Torque joint:  0.29999999999999993\n",
      "Position Dummy: 0.2643358347292022\n",
      " grados: 0.00\n",
      "Simulation time: 1.000 [s]\n",
      "Torque joint:  0.29999999999999993\n",
      "Position Dummy: 0.3577637638489787\n",
      " grados: 0.00\n",
      "Simulation time: 1.150 [s]\n",
      "Torque joint:  0.29999999999999993\n",
      "Position Dummy: 0.4616282602554498\n",
      " grados: 0.00\n",
      "Simulation time: 1.250 [s]\n",
      "Torque joint:  0.29999999999999993\n",
      "Position Dummy: 0.49615322773474035\n",
      " grados: 0.00\n",
      "Simulation time: 1.300 [s]\n",
      "Torque joint:  0.29999999999999993\n",
      "Position Dummy: 0.5203654434240146\n",
      " grados: 0.00\n",
      "Simulation time: 1.400 [s]\n",
      "Torque joint:  0.29999999999999993\n",
      "Position Dummy: 0.510097868670955\n",
      " grados: 0.00\n",
      "Simulation time: 1.450 [s]\n",
      "Torque joint:  0.29999999999999993\n",
      "Position Dummy: 0.44845771224354075\n",
      " grados: 0.00\n",
      "Simulation time: 1.600 [s]\n",
      "Torque joint:  0.29999999999999993\n",
      "Position Dummy: 0.28859100160739376\n",
      " grados: 0.00\n",
      "Simulation time: 1.700 [s]\n",
      "Torque joint:  0.29999999999999993\n",
      "Position Dummy: 0.23085434250299133\n",
      " grados: 0.00\n",
      "Simulation time: 1.750 [s]\n",
      "Torque joint:  0.29999999999999993\n",
      "Position Dummy: 0.2551791593104886\n",
      " grados: 0.00\n",
      "Simulation time: 1.850 [s]\n",
      "Torque joint:  0.29999999999999993\n",
      "Position Dummy: 0.3144685867614628\n",
      " grados: 0.00\n",
      "Simulation time: 1.950 [s]\n",
      "Torque joint:  0.29999999999999993\n",
      "Position Dummy: 0.48303563119349396\n",
      " grados: 0.00\n",
      "Simulation time: 2.000 [s]\n",
      "Torque joint:  0.29999999999999993\n",
      "Position Dummy: 0.5634702099589021\n",
      " grados: 0.00\n",
      "Simulation time: 2.150 [s]\n",
      "Torque joint:  0.29999999999999993\n",
      "Position Dummy: 0.7194348623165632\n",
      " grados: 0.00\n",
      "Simulation time: 2.300 [s]\n",
      "Torque joint:  0.29999999999999993\n",
      "Position Dummy: 0.7156026747706755\n",
      " grados: 0.00\n",
      "Simulation time: 2.450 [s]\n",
      "Torque joint:  0.29999999999999993\n",
      "Position Dummy: 0.5530247115497609\n",
      " grados: 0.00\n",
      "Simulation time: 2.550 [s]\n",
      "Torque joint:  0.29999999999999993\n",
      "Position Dummy: 0.30566160393379527\n",
      " grados: 0.00\n",
      "Simulation time: 2.750 [s]\n",
      "Torque joint:  0.29999999999999993\n",
      "Position Dummy: 0.2542500747533715\n",
      " grados: 0.00\n",
      "Simulation time: 2.950 [s]\n",
      "Torque joint:  0.29999999999999993\n",
      "Position Dummy: 0.40453943141102133\n",
      " grados: 0.00\n",
      "Simulation time: 3.050 [s]\n",
      "Torque joint:  0.29999999999999993\n",
      "Position Dummy: 0.4991556213534839\n",
      " grados: 0.00\n",
      "Simulation time: 3.200 [s]\n",
      "Torque joint:  0.29999999999999993\n",
      "Position Dummy: 0.47073266672044395\n",
      " grados: 0.00\n",
      "Simulation time: 3.400 [s]\n",
      "Torque joint:  0.29999999999999993\n",
      "Position Dummy: 0.3289872973663533\n",
      " grados: 0.00\n",
      "Simulation time: 3.500 [s]\n",
      "Torque joint:  0.29999999999999993\n",
      "Position Dummy: 0.2524447824918282\n",
      " grados: 0.00\n",
      "Simulation time: 3.700 [s]\n",
      "Torque joint:  0.29999999999999993\n",
      "Position Dummy: 0.49553080969489716\n",
      " grados: 0.00\n",
      "Simulation time: 3.850 [s]\n",
      "Torque joint:  0.29999999999999993\n",
      "Position Dummy: 0.6770844372532281\n",
      " grados: 0.00\n",
      "Simulation time: 4.000 [s]\n",
      "Torque joint:  0.29999999999999993\n",
      "Position Dummy: 0.7045533475542662\n",
      " grados: 0.00\n",
      "Simulation time: 4.100 [s]\n",
      "Torque joint:  0.29999999999999993\n",
      "Position Dummy: 0.633719179802779\n",
      " grados: 0.00\n",
      "Simulation time: 4.300 [s]\n",
      "Torque joint:  0.29999999999999993\n",
      "Position Dummy: 0.4183422821435932\n",
      " grados: 0.00\n",
      "Simulation time: 4.400 [s]\n",
      "Torque joint:  0.29999999999999993\n",
      "Position Dummy: 0.2638104950657217\n",
      " grados: 0.00\n",
      "Simulation time: 4.550 [s]\n",
      "Torque joint:  0.29999999999999993\n",
      "Position Dummy: 0.267033726592341\n",
      " grados: 0.00\n",
      "Simulation time: 4.750 [s]\n",
      "Torque joint:  0.29999999999999993\n",
      "Position Dummy: 0.48986054691354103\n",
      " grados: 0.00\n",
      "Simulation time: 4.900 [s]\n",
      "Torque joint:  0.29999999999999993\n",
      "Position Dummy: 0.6667982677586362\n",
      " grados: 0.00\n",
      "*** done\n"
     ]
    }
   ],
   "source": [
    "#+2.2275 altura máxima del dummy\n",
    "#con torque 0.2 no llega a subir\n",
    "#fitness será el que más tiempo esté el dummy en la posición más alta\n",
    "#Exito: dejar x segundos el dummy en la posición más alta\n",
    "#ctrl+w cierra escena en copelia\n",
    "main()"
   ]
  },
  {
   "cell_type": "code",
   "execution_count": null,
   "metadata": {},
   "outputs": [],
   "source": []
  }
 ],
 "metadata": {
  "kernelspec": {
   "display_name": "Python 3 (ipykernel)",
   "language": "python",
   "name": "python3"
  },
  "language_info": {
   "codemirror_mode": {
    "name": "ipython",
    "version": 3
   },
   "file_extension": ".py",
   "mimetype": "text/x-python",
   "name": "python",
   "nbconvert_exporter": "python",
   "pygments_lexer": "ipython3",
   "version": "3.9.7"
  }
 },
 "nbformat": 4,
 "nbformat_minor": 5
}
