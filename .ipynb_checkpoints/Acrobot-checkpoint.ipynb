{
 "cells": [
  {
   "cell_type": "markdown",
   "id": "d3020ba2",
   "metadata": {},
   "source": [
    "# Proyecto Acrobot con NEAT\n"
   ]
  },
  {
   "cell_type": "code",
   "execution_count": 1,
   "id": "6dcdd25b",
   "metadata": {},
   "outputs": [],
   "source": [
    "import sim\n",
    "import numpy as np\n",
    "import pandas as pd"
   ]
  },
  {
   "cell_type": "markdown",
   "id": "0f946d37",
   "metadata": {},
   "source": [
    "## Conexión"
   ]
  },
  {
   "cell_type": "code",
   "execution_count": 4,
   "id": "1c3f7a91",
   "metadata": {},
   "outputs": [],
   "source": [
    "def connect(port):\n",
    "    sim.simxFinish(-1)# Cerrar todas las conexiones pendientes\n",
    "    clientID=sim.simxStart('127.0.0.1',port,True,True,2000,5) #Conectarse\n",
    "    if clientID==0: \n",
    "        print(\"Conectado a \",port)\n",
    "    else:\n",
    "        print(\"No se pudo conectar   \", clientID)\n",
    "    return clientID"
   ]
  },
  {
   "cell_type": "code",
   "execution_count": 6,
   "id": "602ee4a8",
   "metadata": {},
   "outputs": [
    {
     "name": "stdout",
     "output_type": "stream",
     "text": [
      "Conectado a  19999\n"
     ]
    }
   ],
   "source": [
    "#Conectarse al servidor de VREP\n",
    "clientID= connect(199998)"
   ]
  },
  {
   "cell_type": "markdown",
   "id": "e3b5db9b",
   "metadata": {},
   "source": [
    "## Obtener Manejadores"
   ]
  },
  {
   "cell_type": "code",
   "execution_count": 12,
   "id": "5339cdd5",
   "metadata": {},
   "outputs": [
    {
     "name": "stdout",
     "output_type": "stream",
     "text": [
      "21\n"
     ]
    }
   ],
   "source": [
    "# Obtenemos el manejador para el dummy \n",
    "returnCode,handle=sim.simxGetObjectHandle(clientID,'Dummy',sim.simx_opmode_blocking)\n",
    "dummy = handle\n",
    "print(dummy)"
   ]
  },
  {
   "cell_type": "code",
   "execution_count": 13,
   "id": "0160fdf6",
   "metadata": {},
   "outputs": [
    {
     "name": "stdout",
     "output_type": "stream",
     "text": [
      "[-0.484499990940094, -0.2840000092983246, 0.3774999976158142]\n"
     ]
    }
   ],
   "source": [
    "returnCode,pos=sim.simxGetObjectPosition(clientID,dummy,-1,sim.simx_opmode_blocking)\n",
    "print(pos)"
   ]
  },
  {
   "cell_type": "code",
   "execution_count": 31,
   "id": "612b64a4",
   "metadata": {},
   "outputs": [
    {
     "name": "stdout",
     "output_type": "stream",
     "text": [
      "17\n"
     ]
    }
   ],
   "source": [
    "returnCode,joint1=sim.simxGetObjectHandle(clientID,'Joint1',sim.simx_opmode_blocking)\n",
    "print(joint1)"
   ]
  },
  {
   "cell_type": "code",
   "execution_count": 30,
   "id": "bf24e1ee",
   "metadata": {},
   "outputs": [
    {
     "name": "stdout",
     "output_type": "stream",
     "text": [
      "19\n"
     ]
    }
   ],
   "source": [
    "returnCode,joint2=sim.simxGetObjectHandle(clientID,'Joint2',sim.simx_opmode_blocking)\n",
    "print(joint2)"
   ]
  },
  {
   "cell_type": "code",
   "execution_count": 29,
   "id": "78bb1b5d",
   "metadata": {},
   "outputs": [
    {
     "name": "stdout",
     "output_type": "stream",
     "text": [
      "-4.690535206464119e-05\n"
     ]
    }
   ],
   "source": [
    "returnCode,pos=sim.simxGetJointPosition(clientID,joint1,sim.simx_opmode_blocking)\n",
    "print(pos)"
   ]
  },
  {
   "cell_type": "code",
   "execution_count": 28,
   "id": "735e9a11",
   "metadata": {},
   "outputs": [
    {
     "name": "stdout",
     "output_type": "stream",
     "text": [
      "8.384677494177595e-05\n"
     ]
    }
   ],
   "source": [
    "returnCode,pos=sim.simxGetJointPosition(clientID,joint2,sim.simx_opmode_blocking)\n",
    "print(pos)"
   ]
  },
  {
   "cell_type": "code",
   "execution_count": null,
   "id": "770da342",
   "metadata": {},
   "outputs": [],
   "source": [
    "#returnCode =sim.simxSetJointForce"
   ]
  },
  {
   "cell_type": "code",
   "execution_count": 32,
   "id": "78fb61e5",
   "metadata": {},
   "outputs": [
    {
     "name": "stdout",
     "output_type": "stream",
     "text": [
      "0\n"
     ]
    }
   ],
   "source": [
    "# enviamos la posición de joint1, en radianes.\n",
    "q1 = -30 * np.pi/180\n",
    "returnCode = sim.simxSetJointTargetPosition(clientID, joint1, q1, sim.simx_opmode_oneshot)\n",
    "print(returnCode)"
   ]
  },
  {
   "cell_type": "code",
   "execution_count": 33,
   "id": "c292362e",
   "metadata": {},
   "outputs": [
    {
     "name": "stdout",
     "output_type": "stream",
     "text": [
      "0\n"
     ]
    }
   ],
   "source": [
    "q2 = -30 * np.pi/180\n",
    "returnCode = sim.simxSetJointTargetPosition(clientID, joint2, q2, sim.simx_opmode_oneshot)\n",
    "print(returnCode)"
   ]
  },
  {
   "cell_type": "code",
   "execution_count": null,
   "id": "8293414a",
   "metadata": {},
   "outputs": [],
   "source": []
  }
 ],
 "metadata": {
  "kernelspec": {
   "display_name": "Python 3 (ipykernel)",
   "language": "python",
   "name": "python3"
  },
  "language_info": {
   "codemirror_mode": {
    "name": "ipython",
    "version": 3
   },
   "file_extension": ".py",
   "mimetype": "text/x-python",
   "name": "python",
   "nbconvert_exporter": "python",
   "pygments_lexer": "ipython3",
   "version": "3.9.13"
  }
 },
 "nbformat": 4,
 "nbformat_minor": 5
}
